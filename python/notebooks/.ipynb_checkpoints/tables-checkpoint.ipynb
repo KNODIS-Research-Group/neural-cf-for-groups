{
 "cells": [
  {
   "cell_type": "code",
   "execution_count": 1,
   "metadata": {
    "ExecuteTime": {
     "end_time": "2022-12-05T13:20:55.137885Z",
     "start_time": "2022-12-05T13:20:54.900537Z"
    }
   },
   "outputs": [],
   "source": [
    "import pandas as pd\n",
    "import pathlib\n",
    "\n",
    "\n",
    "models=[\n",
    "    'gmf_ipa_mean',\n",
    "    'gmf_gpa_mean',\n",
    "    'gmf_gpa_expert',\n",
    "    'gmf_gpa_softmax',\n",
    "    'mlp_ipa_mean',\n",
    "    'mlp_gpa_mean',\n",
    "    'mlp_gpa_expert',\n",
    "    'mlp_gpa_softmax',\n",
    "]\n",
    "\n",
    "\"\"\"\n",
    "'groups-2-gmf_k8_dsft_seed1234_gpa_mean.csv'\n",
    "'groups-2-gmf_k8_dsft_seed1234_ipa_mean.csv'\n",
    "\"\"\"\n",
    "def name_to_file(name, ds, k='8', seed='1234'):\n",
    "    model_variation = name.split('_')\n",
    "    modelname = model_variation[0] # gmf\n",
    "    variation = '_'.join(model_variation[1:]) # ipa_mean\n",
    "    return f'{modelname}_k{k}_ds{ds}_seed{seed}_{variation}'\n",
    "\n",
    "\n",
    "\"\"\"\n",
    "@param ds: Dataset\n",
    "@return: means per groupsize, results as pandas DF with g column, restuls_dict dict with results\n",
    "\"\"\"\n",
    "def get_error(ds):\n",
    "    datapath=f'../data/grupos/{ds}/'\n",
    "    restulspath=f'../results/{ds}/'\n",
    "    \n",
    "\n",
    "    # Load data\n",
    "    groups = {}\n",
    "\n",
    "    fromngroups=2\n",
    "    tongroups=10\n",
    "\n",
    "    # Group mean as 'y'\n",
    "    for g in range(fromngroups,tongroups+1):\n",
    "        data_group = pd.read_csv(f\"{datapath}groups-{g}.csv\")\n",
    "        groups[g] = data_group #pd.DataFrame(data_group.filter(regex=\"rating\").mean(axis=1), columns=['y'])\n",
    "        groups[g]['g'] = g\n",
    "\n",
    "    # Load model predictions\n",
    "    for g in range(fromngroups,tongroups+1):\n",
    "        for model in models:\n",
    "            mfile = name_to_file(model, ds)\n",
    "            groups[g][model] = pd.read_csv(\n",
    "                f\"{restulspath}groups-{g}-{mfile}.csv\",\n",
    "                header=0,\n",
    "                names=[\"data\"]\n",
    "            )['data']\n",
    "\n",
    "    # Compute error\n",
    "    for g in range(fromngroups,tongroups+1):    # Each group\n",
    "        for m in models:                        # Each model\n",
    "            for gi in range(1,g+1):             # Each rating in group\n",
    "                groups[g][m+'-error-'+str(gi)] = abs(groups[g]['rating-'+str(gi)] - groups[g][m])\n",
    "                groups[g][m+'-error2-'+str(gi)] = (groups[g]['rating-'+str(gi)] - groups[g][m])**2\n",
    "\n",
    "    for g in range(fromngroups,tongroups+1):    # Each group\n",
    "        for m in models:                        # Each model\n",
    "            groups[g][m+'-MAE'] = groups[g].filter(regex='^'+m+'-error-',axis=1).mean(axis=1, skipna=True)\n",
    "            groups[g][m+'-MAX'] = groups[g].filter(regex='^'+m+'-error-',axis=1).max(axis=1, skipna=True)\n",
    "            groups[g][m+'-MSE'] = groups[g].filter(regex='^'+m+'-error2-',axis=1).mean(axis=1, skipna=True)\n",
    "\n",
    "    # Join dict of groups\n",
    "    results = pd.concat(groups, join='inner', ignore_index=True)\n",
    "    # Calculate means\n",
    "    means = results.groupby('g').mean()\n",
    "\n",
    "    return means, results, groups\n",
    "\n",
    "#DS='ml1m'\n",
    "#DS='ft'\n",
    "#DS='anime'\n",
    "#DS='netflix'"
   ]
  },
  {
   "cell_type": "code",
   "execution_count": 2,
   "metadata": {
    "ExecuteTime": {
     "end_time": "2022-12-05T13:20:55.756111Z",
     "start_time": "2022-12-05T13:20:55.746166Z"
    }
   },
   "outputs": [],
   "source": [
    "from IPython.display import display\n",
    "\n",
    "def draw_table(what, data):\n",
    "    focus_on_data = [\n",
    "        'gmf_ipa_mean-'+what,\n",
    "        'gmf_gpa_mean-'+what,\n",
    "        'gmf_gpa_expert-'+what,\n",
    "        'gmf_gpa_softmax-'+what,\n",
    "        'mlp_ipa_mean-'+what,\n",
    "        'mlp_gpa_mean-'+what,\n",
    "        'mlp_gpa_expert-'+what,\n",
    "        'mlp_gpa_softmax-'+what,\n",
    "    ]\n",
    "    print(what)\n",
    "    pd.set_option(\"display.precision\", 4)\n",
    "    display(data[focus_on_data].groupby(\"g\", as_index=False).mean().filter(regex=what+\"$\").T\\\n",
    "                    .rename(columns = {0:2, 1:3, 2:4, 3:5, 4:6, 5:7, 6:8, 7:9, 8:10})\\\n",
    "                    .style.highlight_min(color = 'lightgreen', axis = 0))\n",
    "\n",
    "def highlight_max(s):\n",
    "    '''\n",
    "    highlight the maximum in a Series yellow.\n",
    "    '''\n",
    "    is_max = s == s.max()\n",
    "    return ['background-color: yellow' if v else '' for v in is_max]\n",
    "\n",
    "def draw_with_highlight_ndcg(data):\n",
    "    pd.set_option(\"display.precision\", 4)\n",
    "    display(data.style.apply(highlight_max))\n",
    "    #display(data.style.highlight_max(color = 'lightgreen', axis = 0))"
   ]
  },
  {
   "cell_type": "code",
   "execution_count": null,
   "metadata": {
    "ExecuteTime": {
     "end_time": "2022-12-05T10:25:42.451011Z",
     "start_time": "2022-12-05T10:25:29.029894Z"
    }
   },
   "outputs": [],
   "source": []
  },
  {
   "cell_type": "code",
   "execution_count": null,
   "metadata": {
    "ExecuteTime": {
     "end_time": "2022-12-05T10:25:42.509772Z",
     "start_time": "2022-12-05T10:25:42.453875Z"
    }
   },
   "outputs": [],
   "source": []
  },
  {
   "cell_type": "code",
   "execution_count": 11,
   "metadata": {
    "ExecuteTime": {
     "end_time": "2022-12-05T13:54:16.149026Z",
     "start_time": "2022-12-05T13:54:16.138031Z"
    },
    "scrolled": true
   },
   "outputs": [],
   "source": [
    "from sklearn.metrics import ndcg_score\n",
    "NTIEMS=5 #number of item rated per group\n",
    "NGROUPS=10000\n",
    "\n",
    "\"\"\"\n",
    "@param ds: Dataset\n",
    "@return: means per groupsize, results as pandas DF with g column, restuls_dict dict with results\n",
    "\"\"\"\n",
    "def get_ndcg_score(data_dict):\n",
    "    fromngroups=2\n",
    "    tongroups=10\n",
    "    \n",
    "    ndcg_score_data = {}\n",
    "    \n",
    "    subfix='-NDCG'\n",
    "    models_ndcg = [m+subfix for m in models]\n",
    "    \n",
    "    for g in range(fromngroups,tongroups+1):\n",
    "        ndcg_score_data[g] = pd.DataFrame(index=range(0,NGROUPS), columns=['g'] + models_ndcg, dtype='float64')\n",
    "        ndcg_score_data[g]['g'] = g\n",
    "        \n",
    "        # get real mean.\n",
    "        data_dict[g]['rating-mean'] = data_dict[g].filter(regex='^rating-',axis=1).mean(axis=1, skipna=True)\n",
    "        # Generate index per item in group 1, 2, 3, 4, 5\n",
    "        item_per_group = data_dict[g].groupby(['group']).cumcount().add(1)\n",
    "        data_dict[g]['item-index'] = item_per_group\n",
    "        \n",
    "        groudtruth = data_dict[g].pivot(index='group', columns='item-index', values='rating-mean').to_numpy()\n",
    "        # id_group, rating-mean-1, rating-mean-2, etc... (No with this names)\n",
    "        for m in models:\n",
    "            model_prediction = data_dict[g].pivot(index='group', columns='item-index', values=m).to_numpy()\n",
    "            \n",
    "            for idx, data_tuple in enumerate(zip(groudtruth, model_prediction)):\n",
    "                ndcg_score_data[g].loc[idx,m+subfix] = ndcg_score([data_tuple[0]], [data_tuple[1]])\n",
    "    \n",
    "    # Join dict of groups\n",
    "    results = pd.concat(ndcg_score_data, join='inner', ignore_index=True)\n",
    "    # Calculate means\n",
    "    means = results.groupby('g').mean()\n",
    "\n",
    "    return means, results, ndcg_score_data\n",
    "\n",
    "#result_ndcg[2][['group','rating-mean']].head(10)#.pivot('group','rating-mean')\n",
    "#groups[2].pivot(index='group', columns='item-index', values='gmf_ipa_mean').head(10)\n",
    "#ndcg_results = get_ndcg_score(groups)\n",
    "#ndcg_means, ndcg_results, ndcg_results_dict = get_ndcg_score(groups)"
   ]
  },
  {
   "cell_type": "code",
   "execution_count": 4,
   "metadata": {
    "ExecuteTime": {
     "end_time": "2022-12-05T13:21:00.005004Z",
     "start_time": "2022-12-05T13:21:00.001344Z"
    }
   },
   "outputs": [],
   "source": [
    "datasets = {}\n",
    "datasets['ml1m']='MovieLens1M'\n",
    "datasets['ft']='FilmTrust'\n",
    "datasets['anime']='MyAnimeList'"
   ]
  },
  {
   "cell_type": "code",
   "execution_count": 5,
   "metadata": {
    "ExecuteTime": {
     "end_time": "2022-12-05T13:21:43.647273Z",
     "start_time": "2022-12-05T13:21:02.053962Z"
    }
   },
   "outputs": [],
   "source": [
    "all_results = {}\n",
    "\n",
    "for ds in datasets.keys():\n",
    "    means, results, result_dict = get_error(ds)\n",
    "    all_results[ds] = {}\n",
    "    all_results[ds]['means'] = means\n",
    "    all_results[ds]['results'] = results\n",
    "    all_results[ds]['result_dict'] = result_dict"
   ]
  },
  {
   "cell_type": "code",
   "execution_count": 12,
   "metadata": {
    "ExecuteTime": {
     "end_time": "2022-12-05T14:32:06.658913Z",
     "start_time": "2022-12-05T13:54:18.855510Z"
    }
   },
   "outputs": [],
   "source": [
    "for ds in datasets.keys():\n",
    "    ndcg_means, ndcg_results, ndcg_results_dict = get_ndcg_score(all_results[ds]['result_dict'])\n",
    "    all_results[ds]['ndcg_means'] = ndcg_means\n",
    "    all_results[ds]['ndcg_results'] = ndcg_results\n",
    "    all_results[ds]['ndcg_results_dict'] = ndcg_results_dict"
   ]
  },
  {
   "cell_type": "markdown",
   "metadata": {},
   "source": [
    "# Draw results"
   ]
  },
  {
   "cell_type": "code",
   "execution_count": null,
   "metadata": {
    "ExecuteTime": {
     "end_time": "2022-12-04T15:59:26.311350Z",
     "start_time": "2022-12-04T15:58:06.331955Z"
    }
   },
   "outputs": [],
   "source": [
    "means, results, group_result = get_error('ml1m')\n",
    "draw_table('MAE', means)\n",
    "draw_table('MSE', means)\n",
    "draw_table('MAX', means)\n",
    "ndcg_score_data = get_ndcg_score(group_result)\n",
    "draw_with_highlight_ndcg(ndcg_score_data)"
   ]
  },
  {
   "cell_type": "code",
   "execution_count": null,
   "metadata": {
    "ExecuteTime": {
     "end_time": "2022-12-04T16:00:48.421452Z",
     "start_time": "2022-12-04T15:59:26.314706Z"
    }
   },
   "outputs": [],
   "source": [
    "means, results, group_result = get_error('ft')\n",
    "draw_table('MAE', means)\n",
    "draw_table('MSE', means)\n",
    "draw_table('MAX', means)\n",
    "ndcg_score_data = get_ndcg_score(group_result)\n",
    "draw_with_highlight_ndcg(ndcg_score_data)"
   ]
  },
  {
   "cell_type": "code",
   "execution_count": null,
   "metadata": {
    "ExecuteTime": {
     "end_time": "2022-12-04T16:02:07.964682Z",
     "start_time": "2022-12-04T16:00:48.424009Z"
    }
   },
   "outputs": [],
   "source": [
    "means, results, group_result = get_error('anime')\n",
    "draw_table('MAE', means)\n",
    "draw_table('MSE', means)\n",
    "draw_table('MAX', means)\n",
    "ndcg_score_data = get_ndcg_score(group_result)\n",
    "draw_with_highlight_ndcg(ndcg_score_data)"
   ]
  },
  {
   "cell_type": "markdown",
   "metadata": {},
   "source": [
    "# Latex table generation"
   ]
  },
  {
   "cell_type": "code",
   "execution_count": null,
   "metadata": {
    "ExecuteTime": {
     "end_time": "2022-12-04T19:03:04.276421Z",
     "start_time": "2022-12-04T19:03:04.271463Z"
    }
   },
   "outputs": [],
   "source": [
    "print(models)"
   ]
  },
  {
   "cell_type": "code",
   "execution_count": 26,
   "metadata": {
    "ExecuteTime": {
     "end_time": "2022-12-07T11:14:34.044351Z",
     "start_time": "2022-12-07T11:14:34.026787Z"
    }
   },
   "outputs": [],
   "source": [
    "PRECISION=5\n",
    "STD_PRECISION=3\n",
    "pd.set_option(\"display.precision\", PRECISION)\n",
    "\n",
    "def table_describe(data, what):\n",
    "    what = '-' + what\n",
    "    focus_on_data = [\n",
    "        'g',\n",
    "        'gmf_ipa_mean'+what,\n",
    "        #'gmf_gpa_mean'+what,\n",
    "        'gmf_gpa_expert'+what,\n",
    "        'gmf_gpa_softmax'+what,\n",
    "        'mlp_ipa_mean'+what,\n",
    "        'mlp_gpa_mean'+what,\n",
    "        'mlp_gpa_expert'+what,\n",
    "        'mlp_gpa_softmax'+what,\n",
    "    ]\n",
    "    names = [\n",
    "        'g',\n",
    "        #'GMF IPA',\n",
    "        #'GMF Avg',\n",
    "        '\\\\makecell[l]{GMF IPA \\\\\\\\ GMF Avg}',\n",
    "        #'GMF Most expert',\n",
    "        'GMF Expertise',\n",
    "        'GMF Softmax',\n",
    "        'MLP IPA',\n",
    "        '\\\\makecell[l]{MLP Avg \\\\\\\\ DeepGroup}',\n",
    "        #'MLP Most expert',\n",
    "        'MLP Expertise',\n",
    "        'MLP Softmax',\n",
    "    ]\n",
    "    d = data.copy()[focus_on_data]\n",
    "    new_names_map = {d.columns[i]:names[i] for i in range(len(names))}\n",
    "    d.rename(new_names_map, axis=1, inplace=True)\n",
    "    std = d.groupby(\"g\", as_index=True).std().T\n",
    "    mean = d.groupby(\"g\", as_index=True).mean().T\n",
    "    return (mean, std)\n",
    "\n",
    "def generate_latext_table(mean, std, highlight_min=True):\n",
    "    content = \"\"\n",
    "    \n",
    "    content += \"\\\\hline\\n\"\n",
    "    content += \"Model \\\\textbackslash Group Size & 2      & 3      & 4      & 5      & 6      & 7      & 8      & 9      & 10     \\\\\\\\ \\\\hline\\n\"\n",
    "    \n",
    "    if highlight_min:\n",
    "        highlight_values = mean.idxmin()\n",
    "    else:\n",
    "        highlight_values = mean.idxmax()\n",
    "    \n",
    "    for rix in range(len(mean)):\n",
    "        content += mean.index[rix]\n",
    "        for cix in range(len(mean.iloc[rix])):\n",
    "            \n",
    "            if mean.index[rix] == highlight_values[cix+2]:\n",
    "                cell = \" & \\\\cellcolor[gray]{0.8}\\\\makecell{\\\\textbf{\"\n",
    "                cell += str(round(mean.iloc[rix, cix], PRECISION))\n",
    "                cell += \"}\\\\\\\\\\\\textbf{(\" + str(round(std.iloc[rix, cix], STD_PRECISION)) + \")}\"\n",
    "                cell += \"} \"                \n",
    "            else:\n",
    "                cell = \" & \\\\makecell{\"\n",
    "                cell += str(round(mean.iloc[rix, cix], PRECISION))\n",
    "                cell += \"\\\\\\\\(\" + str(round(std.iloc[rix, cix], STD_PRECISION)) + \")\"\n",
    "                cell += \"} \"\n",
    "            \n",
    "            content += cell\n",
    "        content += \"\\\\\\\\ \\\\hline \\n\"\n",
    "    return content\n",
    "\n",
    "def generate_highlight_table(data):\n",
    "    #return mean.index.get_loc(mean[3].idxmin())\n",
    "    index_color = \"\"\n",
    "    \n",
    "    \n",
    "    for i, r_label in enumerate(highlight_values):\n",
    "        rix = data.index.get_loc(r_label)\n",
    "        index_color += \"cell{\"+str(rix+3)+\"}{\"+str(i+2)+\"} = {gray9,font=\\\\bfseries},\\n\"\n",
    "    return index_color\n",
    "\n",
    "\n",
    "\"\"\"\n",
    "@param name: Table name\n",
    "@param tag:  Tag for latex\n",
    "@param dataset_names: Names of subtables\n",
    "@param dataset_tags: Tags of subtables\n",
    "@param what: MAE, MSE, MAX, NDCG\n",
    "@param data: all data\n",
    "@param section: section name in dictionary data\n",
    "@param highlight_min: min value the best\n",
    "@return: str latex table\n",
    "\"\"\"\n",
    "def generate_table(name, tag, dataset_names, dataset_tags, what, data, section='results', highlight_min=True):\n",
    "    content = \"\"\"\n",
    "    \\\\begin{table}[ht]\n",
    "        \\\\caption{\"\"\"+name+\"\"\"}\n",
    "        \\\\label{tab:\"\"\"+tag+\"\"\"}\n",
    "    \"\"\"\n",
    "\n",
    "    for subname, subtag in zip(dataset_names, dataset_tags): # ml1m, ft, anime,... \n",
    "        mean, std = table_describe(data[subtag][section], what)\n",
    "\n",
    "        content += \"\"\"\n",
    "        \\\\begin{subtable}[h]{1\\\\textwidth}\n",
    "        \\\\resizebox{\\\\textwidth}{!}{%\n",
    "            \\\\renewcommand{\\\\arraystretch}{1.9}\n",
    "            \\\\begin{tabular}{|l|c|c|c|c|c|c|c|c|c|}\n",
    "        \"\"\"\n",
    "        content += generate_latext_table(mean, std, highlight_min)\n",
    "        content += \"\"\"\n",
    "            \\\\end{tabular}%\n",
    "        }\n",
    "        \\\\caption{\"\"\"+subname+\"\"\"}\n",
    "        \\\\label{tab:\"\"\"+tag+\"\"\":\"\"\"+subtag+\"\"\"}\n",
    "        \\\\end{subtable}\"\"\"\n",
    "\n",
    "    content += \"\"\"\n",
    "    \\\\end{table}\n",
    "    \"\"\"\n",
    "    return content\n"
   ]
  },
  {
   "cell_type": "code",
   "execution_count": 27,
   "metadata": {
    "ExecuteTime": {
     "end_time": "2022-12-07T11:14:34.666884Z",
     "start_time": "2022-12-07T11:14:34.328190Z"
    }
   },
   "outputs": [
    {
     "ename": "NameError",
     "evalue": "name 'min_values_labels' is not defined",
     "output_type": "error",
     "traceback": [
      "\u001b[0;31m---------------------------------------------------------------------------\u001b[0m",
      "\u001b[0;31mNameError\u001b[0m                                 Traceback (most recent call last)",
      "\u001b[0;32m<ipython-input-27-2b9c408e0cdc>\u001b[0m in \u001b[0;36m<module>\u001b[0;34m\u001b[0m\n\u001b[1;32m      1\u001b[0m print(\n\u001b[0;32m----> 2\u001b[0;31m     generate_table(\n\u001b[0m\u001b[1;32m      3\u001b[0m         \u001b[0;34m'Mean Absolute Error'\u001b[0m\u001b[0;34m,\u001b[0m\u001b[0;34m\u001b[0m\u001b[0;34m\u001b[0m\u001b[0m\n\u001b[1;32m      4\u001b[0m         \u001b[0;34m'mae'\u001b[0m\u001b[0;34m,\u001b[0m\u001b[0;34m\u001b[0m\u001b[0;34m\u001b[0m\u001b[0m\n\u001b[1;32m      5\u001b[0m         \u001b[0mdatasets\u001b[0m\u001b[0;34m.\u001b[0m\u001b[0mvalues\u001b[0m\u001b[0;34m(\u001b[0m\u001b[0;34m)\u001b[0m\u001b[0;34m,\u001b[0m\u001b[0;34m\u001b[0m\u001b[0;34m\u001b[0m\u001b[0m\n",
      "\u001b[0;32m<ipython-input-26-ed863d69de22>\u001b[0m in \u001b[0;36mgenerate_table\u001b[0;34m(name, tag, dataset_names, dataset_tags, what, data, section, highlight_min)\u001b[0m\n\u001b[1;32m    105\u001b[0m             \u001b[0;31m\\\u001b[0m\u001b[0;31m\\\u001b[0m\u001b[0mbegin\u001b[0m\u001b[0;34m{\u001b[0m\u001b[0mtabular\u001b[0m\u001b[0;34m}\u001b[0m\u001b[0;34m{\u001b[0m\u001b[0;34m|\u001b[0m\u001b[0ml\u001b[0m\u001b[0;34m|\u001b[0m\u001b[0mc\u001b[0m\u001b[0;34m|\u001b[0m\u001b[0mc\u001b[0m\u001b[0;34m|\u001b[0m\u001b[0mc\u001b[0m\u001b[0;34m|\u001b[0m\u001b[0mc\u001b[0m\u001b[0;34m|\u001b[0m\u001b[0mc\u001b[0m\u001b[0;34m|\u001b[0m\u001b[0mc\u001b[0m\u001b[0;34m|\u001b[0m\u001b[0mc\u001b[0m\u001b[0;34m|\u001b[0m\u001b[0mc\u001b[0m\u001b[0;34m|\u001b[0m\u001b[0mc\u001b[0m\u001b[0;34m|\u001b[0m\u001b[0;34m}\u001b[0m\u001b[0;34m\u001b[0m\u001b[0;34m\u001b[0m\u001b[0m\n\u001b[1;32m    106\u001b[0m         \"\"\"\n\u001b[0;32m--> 107\u001b[0;31m         \u001b[0mcontent\u001b[0m \u001b[0;34m+=\u001b[0m \u001b[0mgenerate_latext_table\u001b[0m\u001b[0;34m(\u001b[0m\u001b[0mmean\u001b[0m\u001b[0;34m,\u001b[0m \u001b[0mstd\u001b[0m\u001b[0;34m,\u001b[0m \u001b[0mhighlight_min\u001b[0m\u001b[0;34m)\u001b[0m\u001b[0;34m\u001b[0m\u001b[0;34m\u001b[0m\u001b[0m\n\u001b[0m\u001b[1;32m    108\u001b[0m         content += \"\"\"\n\u001b[1;32m    109\u001b[0m             \u001b[0;31m\\\u001b[0m\u001b[0;31m\\\u001b[0m\u001b[0mend\u001b[0m\u001b[0;34m{\u001b[0m\u001b[0mtabular\u001b[0m\u001b[0;34m}\u001b[0m\u001b[0;34m%\u001b[0m\u001b[0;34m\u001b[0m\u001b[0;34m\u001b[0m\u001b[0m\n",
      "\u001b[0;32m<ipython-input-26-ed863d69de22>\u001b[0m in \u001b[0;36mgenerate_latext_table\u001b[0;34m(mean, std, highlight_min)\u001b[0m\n\u001b[1;32m     52\u001b[0m         \u001b[0;32mfor\u001b[0m \u001b[0mcix\u001b[0m \u001b[0;32min\u001b[0m \u001b[0mrange\u001b[0m\u001b[0;34m(\u001b[0m\u001b[0mlen\u001b[0m\u001b[0;34m(\u001b[0m\u001b[0mmean\u001b[0m\u001b[0;34m.\u001b[0m\u001b[0miloc\u001b[0m\u001b[0;34m[\u001b[0m\u001b[0mrix\u001b[0m\u001b[0;34m]\u001b[0m\u001b[0;34m)\u001b[0m\u001b[0;34m)\u001b[0m\u001b[0;34m:\u001b[0m\u001b[0;34m\u001b[0m\u001b[0;34m\u001b[0m\u001b[0m\n\u001b[1;32m     53\u001b[0m \u001b[0;34m\u001b[0m\u001b[0m\n\u001b[0;32m---> 54\u001b[0;31m             \u001b[0;32mif\u001b[0m \u001b[0mmean\u001b[0m\u001b[0;34m.\u001b[0m\u001b[0mindex\u001b[0m\u001b[0;34m[\u001b[0m\u001b[0mrix\u001b[0m\u001b[0;34m]\u001b[0m \u001b[0;34m==\u001b[0m \u001b[0mmin_values_labels\u001b[0m\u001b[0;34m[\u001b[0m\u001b[0mcix\u001b[0m\u001b[0;34m+\u001b[0m\u001b[0;36m2\u001b[0m\u001b[0;34m]\u001b[0m\u001b[0;34m:\u001b[0m\u001b[0;34m\u001b[0m\u001b[0;34m\u001b[0m\u001b[0m\n\u001b[0m\u001b[1;32m     55\u001b[0m                 \u001b[0mcell\u001b[0m \u001b[0;34m=\u001b[0m \u001b[0;34m\" & \\\\cellcolor[gray]{0.8}\\\\makecell{\\\\textbf{\"\u001b[0m\u001b[0;34m\u001b[0m\u001b[0;34m\u001b[0m\u001b[0m\n\u001b[1;32m     56\u001b[0m                 \u001b[0mcell\u001b[0m \u001b[0;34m+=\u001b[0m \u001b[0mstr\u001b[0m\u001b[0;34m(\u001b[0m\u001b[0mround\u001b[0m\u001b[0;34m(\u001b[0m\u001b[0mmean\u001b[0m\u001b[0;34m.\u001b[0m\u001b[0miloc\u001b[0m\u001b[0;34m[\u001b[0m\u001b[0mrix\u001b[0m\u001b[0;34m,\u001b[0m \u001b[0mcix\u001b[0m\u001b[0;34m]\u001b[0m\u001b[0;34m,\u001b[0m \u001b[0mPRECISION\u001b[0m\u001b[0;34m)\u001b[0m\u001b[0;34m)\u001b[0m\u001b[0;34m\u001b[0m\u001b[0;34m\u001b[0m\u001b[0m\n",
      "\u001b[0;31mNameError\u001b[0m: name 'min_values_labels' is not defined"
     ]
    }
   ],
   "source": [
    "print(\n",
    "    generate_table(\n",
    "        'Mean Absolute Error',\n",
    "        'mae',\n",
    "        datasets.values(),\n",
    "        datasets.keys(),\n",
    "        'MAE',\n",
    "        all_results\n",
    "    )\n",
    ")\n",
    "\n",
    "print(\n",
    "    generate_table(\n",
    "        'Mean Squared Error',\n",
    "        'mse',\n",
    "        datasets.values(),\n",
    "        datasets.keys(),\n",
    "        'MSE',\n",
    "        all_results\n",
    "    )\n",
    ")\n",
    "\n",
    "print(\n",
    "    generate_table(\n",
    "        'Mean Max Error',\n",
    "        'max',\n",
    "        datasets.values(),\n",
    "        datasets.keys(),\n",
    "        'MAX',\n",
    "        all_results\n",
    "    )\n",
    ")\n",
    "\n",
    "print(\n",
    "    generate_table(\n",
    "        'Discounted cumulative gain',\n",
    "        'ndcg',\n",
    "        datasets.values(),\n",
    "        datasets.keys(),\n",
    "        'NDCG',\n",
    "        all_results,\n",
    "        'ndcg_results',\n",
    "        False\n",
    "    )\n",
    ")"
   ]
  },
  {
   "cell_type": "code",
   "execution_count": null,
   "metadata": {
    "ExecuteTime": {
     "end_time": "2022-12-05T15:06:03.232994Z",
     "start_time": "2022-12-05T15:06:03.069880Z"
    }
   },
   "outputs": [],
   "source": []
  },
  {
   "cell_type": "code",
   "execution_count": null,
   "metadata": {
    "ExecuteTime": {
     "end_time": "2022-12-05T13:21:43.883445Z",
     "start_time": "2022-12-05T13:21:14.960Z"
    }
   },
   "outputs": [],
   "source": []
  },
  {
   "cell_type": "code",
   "execution_count": null,
   "metadata": {
    "ExecuteTime": {
     "end_time": "2022-12-05T13:21:43.884719Z",
     "start_time": "2022-12-05T13:21:15.777Z"
    }
   },
   "outputs": [],
   "source": []
  },
  {
   "cell_type": "code",
   "execution_count": null,
   "metadata": {},
   "outputs": [],
   "source": []
  }
 ],
 "metadata": {
  "kernelspec": {
   "display_name": "Python (BASE)",
   "language": "python",
   "name": "base"
  },
  "language_info": {
   "codemirror_mode": {
    "name": "ipython",
    "version": 3
   },
   "file_extension": ".py",
   "mimetype": "text/x-python",
   "name": "python",
   "nbconvert_exporter": "python",
   "pygments_lexer": "ipython3",
   "version": "3.8.5"
  },
  "toc": {
   "base_numbering": 1,
   "nav_menu": {},
   "number_sections": false,
   "sideBar": true,
   "skip_h1_title": false,
   "title_cell": "Table of Contents",
   "title_sidebar": "Contents",
   "toc_cell": false,
   "toc_position": {},
   "toc_section_display": true,
   "toc_window_display": false
  }
 },
 "nbformat": 4,
 "nbformat_minor": 4
}
